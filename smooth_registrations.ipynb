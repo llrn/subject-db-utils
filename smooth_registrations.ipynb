{
 "cells": [
  {
   "cell_type": "markdown",
   "metadata": {},
   "source": [
    "# Registrations CSV to DB"
   ]
  },
  {
   "cell_type": "code",
   "execution_count": 1,
   "metadata": {},
   "outputs": [],
   "source": [
    "from pathlib import Path\n",
    "import pandas as pd"
   ]
  },
  {
   "cell_type": "markdown",
   "metadata": {},
   "source": [
    "Reads the last csv file matching `glob('*.csv')`. This should select the one with the latest datestring (alpha sort)."
   ]
  },
  {
   "cell_type": "code",
   "execution_count": 2,
   "metadata": {},
   "outputs": [],
   "source": [
    "data = [pd.read_csv(file) for file in Path('sourcedata').glob('*.csv')][-1]"
   ]
  },
  {
   "cell_type": "markdown",
   "metadata": {},
   "source": [
    "## Demographics"
   ]
  },
  {
   "cell_type": "code",
   "execution_count": 3,
   "metadata": {},
   "outputs": [],
   "source": [
    "demogs = pd.DataFrame(\n",
    "    data.set_index([\n",
    "        'Name (Last)', 'Name (First)'\n",
    "    ])[[\n",
    "        'Gender', 'Birth Date', 'Zip Code', 'Source', 'Contact Frequency',\n",
    "        'Phone Number', 'Email Address', 'UCF Main Campus', 'Online-Only Studies',\n",
    "    ]]\n",
    ")"
   ]
  },
  {
   "cell_type": "code",
   "execution_count": 4,
   "metadata": {},
   "outputs": [],
   "source": [
    "demogs.to_csv(Path('derivatives') / 'subject_demographics.csv')"
   ]
  },
  {
   "cell_type": "markdown",
   "metadata": {},
   "source": [
    "## Contact History"
   ]
  },
  {
   "cell_type": "markdown",
   "metadata": {},
   "source": [
    "#### Select and stack the data by indexing (LastName,FirstName) and taking the Contact Strings for each instance of a contact to each person"
   ]
  },
  {
   "cell_type": "code",
   "execution_count": 5,
   "metadata": {},
   "outputs": [],
   "source": [
    "contact_history = pd.DataFrame(\n",
    "    data.set_index(\n",
    "        ['Name (Last)', 'Name (First)']\n",
    "    )[\n",
    "        [c for c in data.columns if c.startswith('Contact Entry')]\n",
    "    ].stack()\n",
    ")"
   ]
  },
  {
   "cell_type": "markdown",
   "metadata": {},
   "source": [
    "#### Prune the ContactString(0) into its constituents, separated by `|` characters"
   ]
  },
  {
   "cell_type": "code",
   "execution_count": 6,
   "metadata": {},
   "outputs": [],
   "source": [
    "new_cols = { 0:'Date', 1:'ContactBy', 2:'ForStudy', 3:'Status' }\n",
    "for key in new_cols:\n",
    "    contact_history[new_cols[key]] = contact_history[0].str.split('|').str[key]"
   ]
  },
  {
   "cell_type": "code",
   "execution_count": 7,
   "metadata": {},
   "outputs": [],
   "source": [
    "contact_history = contact_history.drop(columns=0)"
   ]
  },
  {
   "cell_type": "code",
   "execution_count": 8,
   "metadata": {},
   "outputs": [],
   "source": [
    "contact_history.to_csv(Path('derivatives') / 'contact_history.db')"
   ]
  },
  {
   "cell_type": "markdown",
   "metadata": {},
   "source": [
    "## Convert to SQLAlchemy"
   ]
  },
  {
   "cell_type": "raw",
   "metadata": {},
   "source": [
    "from sqlalchemy import create_engine\n",
    "engine = create_engine('sqlite://', echo=False)"
   ]
  },
  {
   "cell_type": "raw",
   "metadata": {},
   "source": [
    "contact_history.to_sql('contacts', engine)"
   ]
  },
  {
   "cell_type": "raw",
   "metadata": {},
   "source": [
    "engine.execute(\"SELECT * FROM contacts\").fetchall()"
   ]
  },
  {
   "cell_type": "raw",
   "metadata": {},
   "source": [
    "pd.read_sql('contacts', engine)"
   ]
  }
 ],
 "metadata": {
  "kernelspec": {
   "display_name": "Python 3",
   "language": "python",
   "name": "python3"
  },
  "language_info": {
   "codemirror_mode": {
    "name": "ipython",
    "version": 3
   },
   "file_extension": ".py",
   "mimetype": "text/x-python",
   "name": "python",
   "nbconvert_exporter": "python",
   "pygments_lexer": "ipython3",
   "version": "3.7.0"
  }
 },
 "nbformat": 4,
 "nbformat_minor": 2
}
