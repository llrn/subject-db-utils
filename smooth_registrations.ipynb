{
 "cells": [
  {
   "cell_type": "code",
   "execution_count": 1,
   "metadata": {},
   "outputs": [],
   "source": [
    "import os\n",
    "import pandas as pd"
   ]
  },
  {
   "cell_type": "code",
   "execution_count": 4,
   "metadata": {},
   "outputs": [
    {
     "name": "stdout",
     "output_type": "stream",
     "text": [
      "files[0]: subject-registration-2018-11-26.csv\n"
     ]
    }
   ],
   "source": [
    "files=[]\n",
    "for file in os.listdir('.'):\n",
    "    if file.endswith('.csv'):\n",
    "        files.append(file)\n",
    "        print('files['+str(len(files)-1)+']:',file)\n",
    "if len(files) < 1:\n",
    "    print('No CSV files found. Check directory.')\n",
    "if len(files) > 1:\n",
    "    print(str(len(files))+' CSV files found. Using files[0]')"
   ]
  },
  {
   "cell_type": "code",
   "execution_count": 5,
   "metadata": {},
   "outputs": [],
   "source": [
    "data = pd.read_csv(files[0])\n",
    "old_cols=[]\n",
    "new_cols = []\n",
    "for colname in data.columns:\n",
    "    old_cols.append(colname)\n",
    "    if colname.startswith('When contacting a subject,'):\n",
    "        colname = 'contact_entry_'+colname.split('.')[-1].strip(' ')\n",
    "    if colname.startswith('Is the subject MRI eligible?'):\n",
    "        colname = 'mri_eligible'\n",
    "    if colname.startswith('Name'):\n",
    "        colname = colname.split('(')[-1].strip(')')\n",
    "    if colname.startswith('How did you hear about'):\n",
    "        colname = 'source'\n",
    "    if colname.startswith('How often would you like to be contacted'):\n",
    "        colname = 'contact_freq'\n",
    "    if colname.startswith('Other relevant notes'):\n",
    "        colname = 'notes'\n",
    "    colname = colname.replace(' ','_').replace('(','').replace(')','')\n",
    "    colname = colname.replace('-','').replace('\\'','')\n",
    "    new_cols.append(colname)"
   ]
  },
  {
   "cell_type": "code",
   "execution_count": 6,
   "metadata": {},
   "outputs": [],
   "source": [
    "column_dict = dict(zip(old_cols,new_cols))\n",
    "data = data.rename(columns = column_dict)"
   ]
  },
  {
   "cell_type": "code",
   "execution_count": 7,
   "metadata": {},
   "outputs": [
    {
     "data": {
      "text/plain": [
       "Index(['contact_entry_1', 'contact_entry_2', 'contact_entry_3',\n",
       "       'contact_entry_4', 'contact_entry_5', 'contact_entry_6',\n",
       "       'contact_entry_7', 'contact_entry_8', 'contact_entry_9',\n",
       "       'contact_entry_10', 'mri_eligible', 'notes', 'Prefix', 'First',\n",
       "       'Middle', 'Last', 'Suffix', 'Gender', 'Birth_Date', 'Zip_Code',\n",
       "       'source', 'contact_freq', 'Phone', 'Email', 'Mail', 'No_Preference',\n",
       "       'Phone_Number', 'Email.1', 'I_dont_have_email', 'Morning_6_AM__10_AM',\n",
       "       'Afternoon_2_PM__6_PM', 'Midday_10_AM__2_PM', 'Evening_6_PM__10_PM',\n",
       "       'UCF_Main_Campus', 'UCF_Health_East_Orlando',\n",
       "       'Lake_Nona_Veterans_Affairs_Hospital',\n",
       "       'University_of_Florida_Gainesville', 'OnlineOnly_Studies',\n",
       "       'Address_Street_Address', 'Address_Address_Line_2', 'Address_City',\n",
       "       'Address_State_/_Province', 'Address_ZIP_/_Postal_Code',\n",
       "       'Address_Country', 'Ethnicity', 'Race', 'Created_By_User_Id',\n",
       "       'Entry_Id', 'Entry_Date', 'Source_Url', 'Transaction_Id',\n",
       "       'Payment_Amount', 'Payment_Date', 'Payment_Status', 'Post_Id',\n",
       "       'User_Agent', 'User_IP'],\n",
       "      dtype='object')"
      ]
     },
     "execution_count": 7,
     "metadata": {},
     "output_type": "execute_result"
    }
   ],
   "source": [
    "data.columns"
   ]
  }
 ],
 "metadata": {
  "kernelspec": {
   "display_name": "Python 3",
   "language": "python",
   "name": "python3"
  },
  "language_info": {
   "codemirror_mode": {
    "name": "ipython",
    "version": 3
   },
   "file_extension": ".py",
   "mimetype": "text/x-python",
   "name": "python",
   "nbconvert_exporter": "python",
   "pygments_lexer": "ipython3",
   "version": "3.7.0"
  }
 },
 "nbformat": 4,
 "nbformat_minor": 2
}
